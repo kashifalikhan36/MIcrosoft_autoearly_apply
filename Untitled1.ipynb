{
 "cells": [
  {
   "cell_type": "code",
   "execution_count": 174,
   "id": "8c03dca3-fd62-43c9-b04b-003612f07a8d",
   "metadata": {},
   "outputs": [
    {
     "name": "stdout",
     "output_type": "stream",
     "text": [
      "Requirement already satisfied: undetected_chromedriver in c:\\users\\kashi\\anaconda3\\lib\\site-packages (3.5.5)\n",
      "Requirement already satisfied: selenium>=4.9.0 in c:\\users\\kashi\\anaconda3\\lib\\site-packages (from undetected_chromedriver) (4.26.1)\n",
      "Requirement already satisfied: requests in c:\\users\\kashi\\anaconda3\\lib\\site-packages (from undetected_chromedriver) (2.31.0)\n",
      "Requirement already satisfied: websockets in c:\\users\\kashi\\anaconda3\\lib\\site-packages (from undetected_chromedriver) (13.1)\n",
      "Requirement already satisfied: urllib3<3,>=1.26 in c:\\users\\kashi\\anaconda3\\lib\\site-packages (from urllib3[socks]<3,>=1.26->selenium>=4.9.0->undetected_chromedriver) (2.0.7)\n",
      "Requirement already satisfied: trio~=0.17 in c:\\users\\kashi\\anaconda3\\lib\\site-packages (from selenium>=4.9.0->undetected_chromedriver) (0.27.0)\n",
      "Requirement already satisfied: trio-websocket~=0.9 in c:\\users\\kashi\\anaconda3\\lib\\site-packages (from selenium>=4.9.0->undetected_chromedriver) (0.11.1)\n",
      "Requirement already satisfied: certifi>=2021.10.8 in c:\\users\\kashi\\anaconda3\\lib\\site-packages (from selenium>=4.9.0->undetected_chromedriver) (2024.2.2)\n",
      "Requirement already satisfied: typing_extensions~=4.9 in c:\\users\\kashi\\anaconda3\\lib\\site-packages (from selenium>=4.9.0->undetected_chromedriver) (4.9.0)\n",
      "Requirement already satisfied: websocket-client~=1.8 in c:\\users\\kashi\\anaconda3\\lib\\site-packages (from selenium>=4.9.0->undetected_chromedriver) (1.8.0)\n",
      "Requirement already satisfied: charset-normalizer<4,>=2 in c:\\users\\kashi\\anaconda3\\lib\\site-packages (from requests->undetected_chromedriver) (2.0.4)\n",
      "Requirement already satisfied: idna<4,>=2.5 in c:\\users\\kashi\\anaconda3\\lib\\site-packages (from requests->undetected_chromedriver) (3.4)\n",
      "Requirement already satisfied: attrs>=23.2.0 in c:\\users\\kashi\\anaconda3\\lib\\site-packages (from trio~=0.17->selenium>=4.9.0->undetected_chromedriver) (24.2.0)\n",
      "Requirement already satisfied: sortedcontainers in c:\\users\\kashi\\anaconda3\\lib\\site-packages (from trio~=0.17->selenium>=4.9.0->undetected_chromedriver) (2.4.0)\n",
      "Requirement already satisfied: outcome in c:\\users\\kashi\\anaconda3\\lib\\site-packages (from trio~=0.17->selenium>=4.9.0->undetected_chromedriver) (1.3.0.post0)\n",
      "Requirement already satisfied: sniffio>=1.3.0 in c:\\users\\kashi\\anaconda3\\lib\\site-packages (from trio~=0.17->selenium>=4.9.0->undetected_chromedriver) (1.3.0)\n",
      "Requirement already satisfied: cffi>=1.14 in c:\\users\\kashi\\anaconda3\\lib\\site-packages (from trio~=0.17->selenium>=4.9.0->undetected_chromedriver) (1.16.0)\n",
      "Requirement already satisfied: wsproto>=0.14 in c:\\users\\kashi\\anaconda3\\lib\\site-packages (from trio-websocket~=0.9->selenium>=4.9.0->undetected_chromedriver) (1.2.0)\n",
      "Requirement already satisfied: pysocks!=1.5.7,<2.0,>=1.5.6 in c:\\users\\kashi\\anaconda3\\lib\\site-packages (from urllib3[socks]<3,>=1.26->selenium>=4.9.0->undetected_chromedriver) (1.7.1)\n",
      "Requirement already satisfied: pycparser in c:\\users\\kashi\\anaconda3\\lib\\site-packages (from cffi>=1.14->trio~=0.17->selenium>=4.9.0->undetected_chromedriver) (2.21)\n",
      "Requirement already satisfied: h11<1,>=0.9.0 in c:\\users\\kashi\\anaconda3\\lib\\site-packages (from wsproto>=0.14->trio-websocket~=0.9->selenium>=4.9.0->undetected_chromedriver) (0.14.0)\n",
      "Requirement already satisfied: selenium in c:\\users\\kashi\\anaconda3\\lib\\site-packages (4.26.1)\n",
      "Requirement already satisfied: urllib3<3,>=1.26 in c:\\users\\kashi\\anaconda3\\lib\\site-packages (from urllib3[socks]<3,>=1.26->selenium) (2.0.7)\n",
      "Requirement already satisfied: trio~=0.17 in c:\\users\\kashi\\anaconda3\\lib\\site-packages (from selenium) (0.27.0)\n",
      "Requirement already satisfied: trio-websocket~=0.9 in c:\\users\\kashi\\anaconda3\\lib\\site-packages (from selenium) (0.11.1)\n",
      "Requirement already satisfied: certifi>=2021.10.8 in c:\\users\\kashi\\anaconda3\\lib\\site-packages (from selenium) (2024.2.2)\n",
      "Requirement already satisfied: typing_extensions~=4.9 in c:\\users\\kashi\\anaconda3\\lib\\site-packages (from selenium) (4.9.0)\n",
      "Requirement already satisfied: websocket-client~=1.8 in c:\\users\\kashi\\anaconda3\\lib\\site-packages (from selenium) (1.8.0)\n",
      "Requirement already satisfied: attrs>=23.2.0 in c:\\users\\kashi\\anaconda3\\lib\\site-packages (from trio~=0.17->selenium) (24.2.0)\n",
      "Requirement already satisfied: sortedcontainers in c:\\users\\kashi\\anaconda3\\lib\\site-packages (from trio~=0.17->selenium) (2.4.0)\n",
      "Requirement already satisfied: idna in c:\\users\\kashi\\anaconda3\\lib\\site-packages (from trio~=0.17->selenium) (3.4)\n",
      "Requirement already satisfied: outcome in c:\\users\\kashi\\anaconda3\\lib\\site-packages (from trio~=0.17->selenium) (1.3.0.post0)\n",
      "Requirement already satisfied: sniffio>=1.3.0 in c:\\users\\kashi\\anaconda3\\lib\\site-packages (from trio~=0.17->selenium) (1.3.0)\n",
      "Requirement already satisfied: cffi>=1.14 in c:\\users\\kashi\\anaconda3\\lib\\site-packages (from trio~=0.17->selenium) (1.16.0)\n",
      "Requirement already satisfied: wsproto>=0.14 in c:\\users\\kashi\\anaconda3\\lib\\site-packages (from trio-websocket~=0.9->selenium) (1.2.0)\n",
      "Requirement already satisfied: pysocks!=1.5.7,<2.0,>=1.5.6 in c:\\users\\kashi\\anaconda3\\lib\\site-packages (from urllib3[socks]<3,>=1.26->selenium) (1.7.1)\n",
      "Requirement already satisfied: pycparser in c:\\users\\kashi\\anaconda3\\lib\\site-packages (from cffi>=1.14->trio~=0.17->selenium) (2.21)\n",
      "Requirement already satisfied: h11<1,>=0.9.0 in c:\\users\\kashi\\anaconda3\\lib\\site-packages (from wsproto>=0.14->trio-websocket~=0.9->selenium) (0.14.0)\n",
      "Requirement already satisfied: pyautogui in c:\\users\\kashi\\anaconda3\\lib\\site-packages (0.9.54)\n",
      "Requirement already satisfied: pymsgbox in c:\\users\\kashi\\anaconda3\\lib\\site-packages (from pyautogui) (1.0.9)\n",
      "Requirement already satisfied: pytweening>=1.0.4 in c:\\users\\kashi\\anaconda3\\lib\\site-packages (from pyautogui) (1.2.0)\n",
      "Requirement already satisfied: pyscreeze>=0.1.21 in c:\\users\\kashi\\anaconda3\\lib\\site-packages (from pyautogui) (1.0.1)\n",
      "Requirement already satisfied: pygetwindow>=0.0.5 in c:\\users\\kashi\\anaconda3\\lib\\site-packages (from pyautogui) (0.0.9)\n",
      "Requirement already satisfied: mouseinfo in c:\\users\\kashi\\anaconda3\\lib\\site-packages (from pyautogui) (0.1.3)\n",
      "Requirement already satisfied: pyrect in c:\\users\\kashi\\anaconda3\\lib\\site-packages (from pygetwindow>=0.0.5->pyautogui) (0.2.0)\n",
      "Requirement already satisfied: Pillow>=9.3.0 in c:\\users\\kashi\\anaconda3\\lib\\site-packages (from pyscreeze>=0.1.21->pyautogui) (10.2.0)\n",
      "Requirement already satisfied: pyperclip in c:\\users\\kashi\\anaconda3\\lib\\site-packages (from mouseinfo->pyautogui) (1.9.0)\n"
     ]
    }
   ],
   "source": [
    "!pip install undetected_chromedriver\n",
    "!pip install selenium\n",
    "!pip install pyautogui"
   ]
  },
  {
   "cell_type": "code",
   "execution_count": 181,
   "id": "c50d8a11-353e-414d-b86f-924c2f6e7dfc",
   "metadata": {},
   "outputs": [],
   "source": [
    "import time\n",
    "import json\n",
    "from undetected_chromedriver import Chrome, ChromeOptions\n",
    "from datetime import datetime\n",
    "import pyautogui\n",
    "from selenium.webdriver.common.by import By\n",
    "from selenium.webdriver.common.action_chains import ActionChains\n",
    "from selenium.webdriver.common.keys import Keys\n",
    "from selenium.webdriver.support.ui import WebDriverWait\n",
    "from selenium.webdriver.support import expected_conditions as EC\n",
    "from selenium.webdriver.support.ui import Select\n",
    "from selenium import webdriver"
   ]
  },
  {
   "cell_type": "code",
   "execution_count": null,
   "id": "46f68c62-b18d-4308-9992-e06c9c052054",
   "metadata": {},
   "outputs": [],
   "source": [
    "date_today = datetime.now().strftime('%Y-%m-%d %H:%M:%S')\n",
    "chrome_options = ChromeOptions()\n",
    "chrome_options.binary_location = \"C:\\\\Program Files\\\\Google\\\\Chrome\\\\Application\\\\chrome.exe\"\n",
    "driver = Chrome(options=chrome_options)\n",
    "my_email=\"kashifalikhan093@gmail.com\"\n",
    "driver.get(\"https://careers.microsoft.com/v2/global/en/home.html\")\n",
    "time.sleep(5)\n",
    "signin=driver.find_element('xpath','//*[@id=\"meControl\"]')\n",
    "signin.click()\n",
    "time.sleep(8)\n",
    "signin=driver.find_element('xpath','/html/body/div[2]/div/div/div/div[2]/div[2]/div[3]/div[1]/div/div[3]/div/div[1]')\n",
    "signin.click()\n",
    "time.sleep(7)\n",
    "user_input=driver.find_element('xpath','//*[@id=\"identifierId\"]')\n",
    "user_input.send_keys(my_email)\n",
    "time.sleep(1)\n",
    "user_next=driver.find_element('xpath','//*[@id=\"identifierNext\"]/div/button')\n",
    "user_next.click()\n",
    "time.sleep(7)\n",
    "user_next=driver.find_element('xpath','//*[@id=\"yDmH0d\"]/c-wiz/div/div[3]/div/div[2]/div/div/button')\n",
    "user_next.click()\n",
    "time.sleep(7)\n",
    "user_next=driver.find_element('xpath','//*[@id=\"yDmH0d\"]/c-wiz/div/div[2]/div/div/div/form/span/section[2]/div/div/section/div/div/div/ul/li[2]/div')\n",
    "user_next.click()\n",
    "time.sleep(6)\n",
    "\n",
    "pyautogui.typewrite('6172')\n",
    "pyautogui.press('enter')\n",
    "\n",
    "time.sleep(20)"
   ]
  },
  {
   "cell_type": "code",
   "execution_count": 183,
   "id": "c60ee789-45f8-4b44-91a2-04f69c974cf4",
   "metadata": {},
   "outputs": [],
   "source": [
    "time.sleep(1)\n",
    "driver.get('https://jobs.careers.microsoft.com/global/en/search?lc=India')\n",
    "time.sleep(10)\n",
    "job=driver.find_element('xpath','//*[@id=\"job-search-app\"]/div/div[2]/div/div[2]/div[1]/div/div[1]/div[2]')\n",
    "job.click()\n",
    "time.sleep(7)"
   ]
  },
  {
   "cell_type": "code",
   "execution_count": 184,
   "id": "20bb94d0-afe5-4084-9630-549cb72fded2",
   "metadata": {},
   "outputs": [],
   "source": [
    "driver.get('https://jobs.careers.microsoft.com/global/en/job/1747253/Software-Engineer---Fullstack%2C-Redmond')\n",
    "time.sleep(7)\n",
    "\n",
    "apply=driver.find_element('xpath','//*[@id=\"job-search-app\"]/div/div[2]/div/div/div/div[3]/div/div[1]/div/button')\n",
    "apply.click()\n",
    "time.sleep(7)\n",
    "try:\n",
    "    apply=driver.find_element('xpath','/html/body/div[3]/div/div/div/div[2]/div[2]/div[3]/div[1]/div/div[3]/div/div[1]')\n",
    "    apply.click()\n",
    "    time.sleep(10)\n",
    "except:\n",
    "    pass"
   ]
  },
  {
   "cell_type": "code",
   "execution_count": 185,
   "id": "b800eb65-8132-46f1-bb9b-a029648e8677",
   "metadata": {},
   "outputs": [],
   "source": [
    "submit_button=driver.find_element('xpath','/html/body/div[1]/main/div[4]/div[2]/div/div[2]/div/div/div/div[3]/div/div[1]/div/button')\n",
    "ActionChains(driver).key_down(Keys.CONTROL).click(submit_button).key_up(Keys.CONTROL).perform()\n",
    "time.sleep(5)\n",
    "\n",
    "window_handles = driver.window_handles\n",
    "driver.switch_to.window(window_handles[-1])\n",
    "time.sleep(3)\n",
    "tick=driver.find_element('xpath','//*[@id=\"apply-appaction\"]/div/div/div/div[2]/div[2]/div[3]/div[1]/label')\n",
    "tick.click()\n",
    "time.sleep(1)\n",
    "tick=driver.find_element('xpath','//*[@id=\"apply-appaction\"]/div/div/div/div[2]/div[2]/div[3]/div[2]/label')\n",
    "tick.click()\n",
    "time.sleep(1)\n",
    "apply_2=driver.find_element('xpath','//*[@id=\"apply-appaction\"]/div/div/div/div[2]/div[2]/div[5]/button')\n",
    "apply_2.click()\n",
    "time.sleep(8)"
   ]
  },
  {
   "cell_type": "code",
   "execution_count": 186,
   "id": "0a91d6c8-2e0d-4a9e-893c-2a627260064c",
   "metadata": {},
   "outputs": [
    {
     "name": "stdout",
     "output_type": "stream",
     "text": [
      "Clicked on yes no page\n",
      "Clicked on yes\n",
      "3rd page click atlast\n"
     ]
    }
   ],
   "source": [
    "dropdown = driver.find_element('id', 'isLegallyAuthorized-option')\n",
    "dropdown.click()\n",
    "time.sleep(1)\n",
    "yes_option = driver.find_element('xpath', '/html/body/div[3]/div/div/div/div/div/div/div/button[1]')\n",
    "yes_button = WebDriverWait(driver, 10).until(\n",
    "    EC.element_to_be_clickable((By.ID, 'isLegallyAuthorized-list0'))\n",
    ")\n",
    "yes_button.click()\n",
    "time.sleep(1)\n",
    "\n",
    "dropdown = driver.find_element('id', 'isImmigrationBenefitEligible-option')\n",
    "dropdown.click()\n",
    "time.sleep(1)\n",
    "yes_option = driver.find_element('xpath', '/html/body/div[3]/div/div/div/div/div/div/div/button[1]')\n",
    "yes_button = WebDriverWait(driver, 10).until(\n",
    "    EC.element_to_be_clickable((By.ID, 'isImmigrationBenefitEligible-list1'))\n",
    ")\n",
    "yes_button.click()\n",
    "time.sleep(1)\n",
    "\n",
    "sandc = driver.find_element('xpath', '/html/body/div[1]/main/div[4]/div[2]/div/div/div/div[2]/div[2]/div[2]/button[2]')\n",
    "sandc.click()\n",
    "time.sleep(15)\n",
    "print(\"Clicked on yes no page\")\n",
    "try:\n",
    "    sandc = driver.find_element('xpath', '/html/body/div[3]/div/div/div/div/div[2]/div[2]/div/div[2]/div[2]/div/span[1]/button')\n",
    "    sandc.click()\n",
    "    time.sleep(15)\n",
    "    print(\"Clicked on yes\")\n",
    "except:\n",
    "    print(\"Clicked on yes afetr error\")\n",
    "    end = driver.find_element('xpath', '/html/body/div[1]/div[5]/form/div/div[12]/div[2]/input[2]')\n",
    "    end.click()\n",
    "    time.sleep(5)\n",
    "    print(\"Clicked on yes afetr error\")\n",
    "print(\"3rd page click atlast\")"
   ]
  },
  {
   "cell_type": "code",
   "execution_count": 187,
   "id": "32db5da7-4d8f-4002-a20f-3bf3647f68df",
   "metadata": {},
   "outputs": [],
   "source": [
    "#page3\n",
    "iframe = driver.find_element('xpath', '//*[@id=\"icims_content_iframe\"]')\n",
    "driver.switch_to.frame(iframe)\n",
    "try:\n",
    "    submit_button = WebDriverWait(driver, 10).until(EC.element_to_be_clickable((By.ID, 'quesp_form_submit_i')))\n",
    "    submit_button.click()\n",
    "except:\n",
    "    pass\n",
    "driver.switch_to.default_content()"
   ]
  },
  {
   "cell_type": "code",
   "execution_count": 188,
   "id": "a1712a0b-952e-4f89-9dc4-15ce5ee2aa90",
   "metadata": {},
   "outputs": [],
   "source": [
    "#page4\n",
    "driver.refresh()\n",
    "iframe = driver.find_element('xpath', '//*[@id=\"icims_content_iframe\"]')\n",
    "driver.switch_to.frame(iframe)\n",
    "\n",
    "dropdown = driver.find_element('xpath', '/html/body/div[1]/div[5]/form/div/div[1]/div[2]/select')\n",
    "dropdown.click()\n",
    "select = Select(dropdown)\n",
    "select.select_by_visible_text('Yes')\n",
    "dropdown.click()\n",
    "time.sleep(1)\n",
    "try:\n",
    "    dropdown = driver.find_element('xpath', '/html/body/div[1]/div[5]/form/div/div[2]/div[2]/select')\n",
    "    dropdown.click()\n",
    "    select = Select(dropdown)\n",
    "    select.select_by_visible_text('Yes')\n",
    "    time.sleep(1)\n",
    "except:\n",
    "    pass\n",
    "end = driver.find_element('xpath', '//*[@id=\"quesp_form_submit_i\"]')\n",
    "end.click()\n",
    "driver.switch_to.default_content()\n",
    "time.sleep(10)"
   ]
  },
  {
   "cell_type": "code",
   "execution_count": null,
   "id": "9c10262c-22c6-40c7-9396-498557e063c8",
   "metadata": {},
   "outputs": [],
   "source": []
  },
  {
   "cell_type": "code",
   "execution_count": null,
   "id": "03252ee9-aeff-485a-b224-164f3f861420",
   "metadata": {},
   "outputs": [],
   "source": []
  },
  {
   "cell_type": "code",
   "execution_count": null,
   "id": "68a8e63f-cbe2-4c46-8cf4-7aa2f0f646af",
   "metadata": {},
   "outputs": [],
   "source": []
  },
  {
   "cell_type": "code",
   "execution_count": null,
   "id": "753a603c-6c1b-4472-aba7-ca9322eaf07c",
   "metadata": {},
   "outputs": [],
   "source": []
  }
 ],
 "metadata": {
  "kernelspec": {
   "display_name": "Python 3 (ipykernel)",
   "language": "python",
   "name": "python3"
  },
  "language_info": {
   "codemirror_mode": {
    "name": "ipython",
    "version": 3
   },
   "file_extension": ".py",
   "mimetype": "text/x-python",
   "name": "python",
   "nbconvert_exporter": "python",
   "pygments_lexer": "ipython3",
   "version": "3.11.7"
  }
 },
 "nbformat": 4,
 "nbformat_minor": 5
}
